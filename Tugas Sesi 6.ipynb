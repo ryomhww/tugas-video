{
 "cells": [
  {
   "cell_type": "code",
   "execution_count": 1,
   "metadata": {
    "colab": {
     "base_uri": "https://localhost:8080/"
    },
    "id": "MfeHNHJJoyR0",
    "outputId": "ba6cfaea-fbb8-43ca-fea7-b75d39d40177"
   },
   "outputs": [
    {
     "name": "stdout",
     "output_type": "stream",
     "text": [
      "masukan umur anda : 17\n",
      "masukan tinggi badan anda : 170\n",
      "Harga Tiket = 80000\n"
     ]
    }
   ],
   "source": [
    "umur = int(input(\"masukan umur anda : \"))\n",
    "tinggi = int(input(\"masukan tinggi badan anda : \"))\n",
    "tiket = 0\n",
    "if umur < 2:\n",
    "    print(\"xxxxxxxxxxx Dilarang Menaiki Wahana! xxxxxxxxxxx\")\n",
    "elif umur < 4:\n",
    "    tiket += 30000\n",
    "    if tinggi > 70:\n",
    "        tiket += 10000\n",
    "    print(\"Harga Tiket = {}\".format(tiket))\n",
    "elif umur < 7:\n",
    "    tiket += 40000\n",
    "    if tinggi > 120:\n",
    "        tiket += 15000\n",
    "    print(\"Harga Tiket = {}\".format(tiket))\n",
    "elif umur < 10:\n",
    "    tiket += 50000\n",
    "    if tinggi > 150:\n",
    "        tiket += 20000\n",
    "    print(\"Harga Tiket = {}\".format(tiket))\n",
    "else:\n",
    "    tiket += 80000\n",
    "    print(\"Harga Tiket = {}\".format(tiket))"
   ]
  },
  {
   "cell_type": "code",
   "execution_count": 4,
   "metadata": {
    "colab": {
     "base_uri": "https://localhost:8080/"
    },
    "id": "SvzvQn8esEdl",
    "outputId": "2db7f289-72f1-4502-ec0c-0ce9e54cdf4c"
   },
   "outputs": [
    {
     "name": "stdout",
     "output_type": "stream",
     "text": [
      "Kalori per menit\n",
      "Lari = 12.0 kalori.\n",
      "Push Up = 6.666666666666667 kalori atau 7.0 kalori.\n",
      "Plank = 5 kalori.\n",
      "\n",
      "1.Lari saja\n",
      "2.Lari dan Push Up\n",
      "3.Lari dan Plank\n",
      "4.Push Up dan Plank\n",
      "5.Lari, Push Up, dan Plank\n",
      "Masukan pilihan olahraga :4\n",
      "Masukan berapa lama anda push up(menit) :3\n",
      "- Kalori yang di bakar =  21.0\n",
      "Masukan berapa lama anda lank(menit) :2\n",
      "- Kalori yang di bakar =  10\n",
      "Jumlah Kalori yang dibakar setelah anda push_up dan plank selama 5 menit adalah 31.0 kalori\n"
     ]
    }
   ],
   "source": [
    "lari = 60/5\n",
    "push_upA = 200/30\n",
    "push_up = round(200/30,0)\n",
    "plank = 5\n",
    "menit = 0\n",
    "menit1 = 0\n",
    "menit2 = 0\n",
    "menit3 = 0\n",
    "\n",
    "print('''Kalori per menit\n",
    "Lari = {} kalori.\n",
    "Push Up = {} kalori atau {} kalori.\n",
    "Plank = {} kalori.\n",
    "'''.format(lari,push_upA,push_up,plank))\n",
    "print(\"1.Lari saja\")\n",
    "print(\"2.Lari dan Push Up\")\n",
    "print(\"3.Lari dan Plank\")\n",
    "print(\"4.Push Up dan Plank\")\n",
    "print(\"5.Lari, Push Up, dan Plank\")\n",
    "\n",
    "#pilihan\n",
    "pilihan = int(input(\"Masukan pilihan olahraga :\"))\n",
    "\n",
    "#pilihan 1\n",
    "if pilihan == 1:\n",
    "    menit += int(input('Masukan berapa lama anda lari(menit) :'))\n",
    "    lari *= menit\n",
    "    print('Jumlah Kalori yang dibakar setelah anda lari selama {} menit adalah {} kalori'.format(menit,lari))\n",
    "\n",
    "#pilihan 2    \n",
    "elif pilihan == 2:\n",
    "    menit1 += int(input('Masukan berapa lama anda lari(menit) :'))\n",
    "    lari *= menit1\n",
    "    print('- Kalori yang di bakar = ',lari)\n",
    "    menit2 += int(input('Masukan berapa lama anda push up(menit) :'))\n",
    "    push_up *= menit2\n",
    "    print('- Kalori yang di bakar = ',push_up)\n",
    "    print('Jumlah Kalori yang dibakar setelah anda lari dan push up selama {} menit adalah {} kalori'.format(menit1+menit2,lari+push_up))\n",
    "\n",
    "#pilihan 3\n",
    "elif pilihan == 3:\n",
    "    menit1 += int(input('Masukan berapa lama anda lari(menit) :'))\n",
    "    lari *= menit1\n",
    "    print('- Kalori yang di bakar = ',lari)\n",
    "    menit2 += int(input('Masukan berapa lama anda plank(menit) :'))\n",
    "    plank *= menit2\n",
    "    print('- Kalori yang di bakar = ',plank)\n",
    "    print('Jumlah Kalori yang dibakar setelah anda lari dan plank selama {} menit adalah {} kalori'.format(menit1+menit2,lari+plank))\n",
    "\n",
    "#pilihan 4    \n",
    "elif pilihan == 4:\n",
    "    menit1 = int(input('Masukan berapa lama anda push up(menit) :'))\n",
    "    push_up *= menit1\n",
    "    print('- Kalori yang di bakar = ',push_up)\n",
    "    menit2 = int(input('Masukan berapa lama anda lank(menit) :'))\n",
    "    plank *= menit2\n",
    "    print('- Kalori yang di bakar = ',plank)\n",
    "    print('Jumlah Kalori yang dibakar setelah anda push_up dan plank selama {} menit adalah {} kalori'.format(menit1+menit2,push_up+plank))\n",
    "\n",
    "#pilihan 5   \n",
    "elif pilihan == 5:\n",
    "    menit1 = int(input('Masukan berapa lama anda lari(menit) :'))\n",
    "    lari *= menit1\n",
    "    print('- Kalori yang di bakar = ',lari)\n",
    "    menit2 = int(input('Masukan berapa lama anda push up(menit) :'))\n",
    "    push_up *= menit2\n",
    "    print('- Kalori yang di bakat = ',push_up)\n",
    "    menit3 = int(input('Masukan berapa lama anda plank(menit) :'))\n",
    "    plank *= menit3\n",
    "    print('- Kalori yang di bakat = ',plank)\n",
    "    print('Jumlah Kalori yang dibakar setelah anda lari,push up, dan plank selama {} menit adalah {} kalori'.format(menit1+menit2+menit3,lari+push_up+plank))\n",
    "else:\n",
    "    print('Input Salah')"
   ]
  },
  {
   "cell_type": "code",
   "execution_count": null,
   "metadata": {
    "id": "QsQpmBhitO-a"
   },
   "outputs": [],
   "source": []
  }
 ],
 "metadata": {
  "colab": {
   "provenance": []
  },
  "kernelspec": {
   "display_name": "Python 3 (ipykernel)",
   "language": "python",
   "name": "python3"
  },
  "language_info": {
   "codemirror_mode": {
    "name": "ipython",
    "version": 3
   },
   "file_extension": ".py",
   "mimetype": "text/x-python",
   "name": "python",
   "nbconvert_exporter": "python",
   "pygments_lexer": "ipython3",
   "version": "3.9.12"
  }
 },
 "nbformat": 4,
 "nbformat_minor": 1
}
